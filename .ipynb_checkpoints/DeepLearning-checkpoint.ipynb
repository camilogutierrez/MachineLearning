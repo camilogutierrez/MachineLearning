{
 "cells": [
  {
   "cell_type": "markdown",
   "metadata": {},
   "source": [
    "# Deep Learning\n",
    "\n",
    "In 2006, Geoffrey Hinton et al. published a paper showing how to train a\n",
    "deep neural network capable of recognizing handwritten digits with stateof-the-art precision (>98%). They branded this technique “Deep\n",
    "Learning.” A deep neural network is a (very) simplified model of our\n",
    "cerebral cortex, composed of a stack of layers of artificial neurons.\n",
    "Training a deep neural net was widely considered impossible at the time,\n",
    "and most researchers had abandoned the idea in the late 1990s. This paper\n",
    "revived the interest of the scientific community, and before long many\n",
    "new papers demonstrated that Deep Learning was not only possible, but\n",
    "capable of mind-blowing achievements that no other Machine Learning\n",
    "(ML) technique could hope to match (with the help of tremendous\n",
    "computing power and great amounts of data). This enthusiasm soon\n",
    "extended to many other areas of Machine Learning.\n",
    "A decade or so later, Machine Learning has conquered the industry: it is at\n",
    "the heart of much of the magic in today’s high-tech products, ranking your\n",
    "web search results, powering your smartphone’s speech recognition,\n",
    "recommending videos, and beating the world champion at the game of Go.\n",
    "Before you know it, it will be driving your car"
   ]
  },
  {
   "cell_type": "markdown",
   "metadata": {},
   "source": [
    "Hello and welcome. As you probably know, deep learning has already transformed traditional internet businesses like web search and advertising. But deep learning is also enabling brand new products and businesses and ways of helping people to be created. Everything ranging from better healthcare, where deep learning is getting really good at reading X-ray images to delivering personalized education, to precision agriculture, to even self driving cars and many others. I\n",
    "\n",
    "AI is the new electricity **It transforms a lot of industries**\n",
    "\n",
    "So today, deep learning is one of the most highly sought after skills in technology worlds\n",
    "# Contents\n",
    "\n",
    "1. Neural Networks and Deep learnign\n",
    "\n",
    "2. Improving De\n",
    "\n",
    "3. the way you split your data into train, development or dev also called holdout cross-validation sets and test sets, has changed in the era of deep learning.\n",
    "4. Convolutional Networks \n",
    "---"
   ]
  },
  {
   "cell_type": "markdown",
   "metadata": {},
   "source": [
    "**Why is deep learning taking off?**\n",
    "\n",
    "\n",
    "Deep learning is taking off due to a large amount of data available through the digitization of the society,\n",
    "faster computation and innovation in the development of neural network algorithm.\n",
    "\n",
    "<img align='left' src='images/traditionalML.PNG' width='600'/>\n",
    "\n",
    "**Two things have to be considered to get to the high level of performance:**\n",
    "1. Being able to train a big enough neural network\n",
    "2. Huge amount of labeled data\n",
    "\n",
    "The process of training a neural network is iterative. It could take a good amount of time to train a neural network, which affects your productivity. Faster\n",
    "computation helps to iterate and improve new algorithm\n",
    "\n",
    "<img align='center' src='images/cycle.PNG' width='250'/>\n",
    "\n"
   ]
  },
  {
   "cell_type": "markdown",
   "metadata": {},
   "source": [
    "## Supervised learning for Neural Network\n",
    "In supervised learning, we are given a data set and already know what our correct output should look like,\n",
    "having the idea that there is a relationship between the input and the output. \n",
    "\n",
    "Supervised learning problems are categorized into **\"regression\"** and **\"classification\"** problems. In a\n",
    "regression problem, we are trying to predict results within a continuous output, meaning that we are\n",
    "trying to map input variables to some continuous function. In a classification problem, we are instead\n",
    "trying to predict results in a discrete output. In other words, we are trying to map input variables into\n",
    "discrete categories."
   ]
  },
  {
   "cell_type": "markdown",
   "metadata": {},
   "source": [
    "<img align='left' src='images/sup_learning.PNG' width='550'/>"
   ]
  },
  {
   "cell_type": "markdown",
   "metadata": {},
   "source": [
    "There are different types of neural network, for example **Convolution Neural Network (CNN)** used often\n",
    "for image application and **Recurrent Neural Network (RNN)** used for one-dimensional sequence data\n",
    "such as translating English to Chinses or a temporal component such as text transcript. As for the\n",
    "autonomous driving, it is a hybrid neural network architecture\n",
    "\n",
    "**Structured vs unstructured data**\n",
    "\n",
    "Structured data refers to things that has a defined meaning such as price, age whereas unstructured\n",
    "data refers to thing like pixel, raw audio, text.\n",
    "\n",
    "<img align='left' src='images/gato.PNG' width='700'/>"
   ]
  },
  {
   "cell_type": "markdown",
   "metadata": {},
   "source": [
    "# What is neural network?\n",
    "\n",
    "It is a powerful learning algorithm inspired by how the brain works.\n",
    "\n",
    "**Example 1 – single neural network** \n",
    "\n",
    "Given data about the size of houses on the real estate market and you want to fit a function that will\n",
    "predict their price. It is a linear regression problem because the price as a function of size is a continuous\n",
    "output.\n",
    "We know the prices can never be negative so we are creating a function called Rectified Linear Unit (ReLU)\n",
    "which starts at zero\n",
    "\n",
    "<img align='left' src='images/house.PNG' width='500'/>\n",
    "\n",
    "* The input is the size of the house (x)\n",
    "\n",
    "* The output is the price (y)\n",
    "\n",
    "* The “neuron” implements the function ReLU (blue line)\n",
    "\n",
    "\n",
    "<img align='left' src='images/unared.PNG' width='250'/>"
   ]
  },
  {
   "cell_type": "markdown",
   "metadata": {},
   "source": [
    "RELU Activation function: \n",
    "\n",
    "* Density connected: As explained in this lecture, every input layer feature is interconnected with every hidden layer feature.\n",
    "\n",
    "<img align='left' src='images/ejemplo1.PNG/' width='750'/>"
   ]
  },
  {
   "cell_type": "markdown",
   "metadata": {},
   "source": [
    "## Binary Classifciation\n",
    "\n",
    "In a binary classification problem, the result is a discrete value output.\n",
    "\n",
    "For example - account hacked (1) or compromised (0)\n",
    "- a tumor malign (1) or benign (0)\n",
    "\n",
    "Example: Cat vs Non-Cat\n",
    "\n",
    "The goal is to train a classifier that the input is an image represented by a feature vector, 𝑥, and predicts\n",
    "whether the corresponding label 𝑦 is 1 or 0. In this case, whether this is a cat image (1) or a non-cat image\n",
    "(0).\n",
    "\n",
    "<img align='center' src='images/binary.PNG' width='750'/>"
   ]
  },
  {
   "cell_type": "markdown",
   "metadata": {},
   "source": [
    "An image is store in the computer in three separate matrices corresponding to the Red, Green, and Blue\n",
    "color channels of the image. The three matrices have the same size as the image, for example, the\n",
    "resolution of the cat image is 64 pixels X 64 pixels, the three matrices (RGB) are 64 X 64 each.\n",
    "\n",
    "The value in a cell represents the pixel intensity which will be used to create a feature vector of ndimension. In pattern recognition and machine learning, a feature vector represents an object, in this\n",
    "case, a cat or no cat.\n",
    "\n",
    "To create a feature vector, 𝑥, the pixel intensity values will be “unroll” or “reshape” for each color. The\n",
    "dimension of the input feature vector 𝑥 is 𝑛𝑥 = 64 𝑥 64 𝑥 3 = 12 288.\n",
    "\n",
    "<img align='left' src='images/rgb.PNG' width='150'/>\n",
    "\n"
   ]
  },
  {
   "cell_type": "markdown",
   "metadata": {},
   "source": [
    "---\n",
    "## Logistic Regression\n",
    "\n",
    "Logistic regression is a learning algorithm used in a supervised learning problem when the output 𝑦 are\n",
    "all either zero or one. The goal of logistic regression is to minimize the error between its predictions and\n",
    "training data.\n",
    "\n",
    "Example: Cat vs No - cat\n",
    "\n",
    "Given an image represented by a feature vector 𝑥, the algorithm will evaluate the probability of a cat\n",
    "being in that image\n",
    "\n",
    "$$\\text {Given } x, \\hat{y}=P(y=1 | x), \\text { where } 0 \\leq \\hat{y} \\leq 1$$\n",
    "\n",
    "The parameters used in Logistic regression are:\n",
    "\n",
    "*  The input features vector: $x \\epsilon R^{nx}$ , where 𝑛𝑥 is the number of features\n",
    "* The training label: $\\text{y } \\epsilon \\text{ 0,1}$\n",
    "* The weights $w$ $\\epsilon R^{nx}$ ,\n",
    "* The threshold: b ∈ R\n",
    "* The Output $\\hat{y} = \\sigma (w^Tx + b)$\n",
    "* Sigmoid function: $s= \\sigma (w^Tx + b)=$ $\\sigma(z) = \\frac{1}{1+e^{-z}}$\n",
    "\n",
    "<img align='left' src='images/sigmoid.png' width='400'/>\n",
    "\n",
    "\n",
    "$(w^Tx + b)$ is a linear function $(ax+b)$, but since we are looking for a probability constraint between\n",
    "[0,1], the sigmoid function is used. The function is bounded between [0,1] as shown in the graph above.\n",
    "\n",
    "Some observations from the graph:\n",
    "* If 𝑧 is a large positive number, then 𝜎(𝑧) = 1\n",
    "* If 𝑧 is small or large negative number, then 𝜎(𝑧) = 0\n",
    "* If 𝑧 = 0, then 𝜎(𝑧) = 0.5\n",
    "* $0 \\leq {y} \\leq 1$\n",
    "\n"
   ]
  },
  {
   "cell_type": "markdown",
   "metadata": {},
   "source": [
    "$\\text{Given } \\hat{y} = \\sigma (w^Tx + b)$\n",
    "$\\text {, interpret } \\hat{y}=P(y=1 | x)$\n",
    "* if $y=1 \\longrightarrow$ $P(y | x)=\\hat{y}$\n",
    "* if $y=0 \\longrightarrow$ $P(y | x)=1-\\hat{y}$"
   ]
  },
  {
   "cell_type": "markdown",
   "metadata": {},
   "source": [
    "## Cost Function\n",
    "\n",
    "To train the parameters 𝑤 and 𝑏, we need to define a cost function.\n",
    "\n",
    "\\begin{aligned}\n",
    "&\\hat{y}^{(i)}=\\sigma\\left(w^{T} x^{(i)}+b\\right), \\text { where } \\sigma\\left(z^{(i)}\\right)=\\frac{1}{1+e^{-z^{(i)}}}\\\\\n",
    "&\\text {Given }\\left\\{\\left(x^{(1)}, y^{(1)}\\right), \\cdots,\\left(x^{(m)}, y^{(m)}\\right)\\right\\}, \\text { we want } \\hat{y}^{(i)} \\approx y^{(i)}\n",
    "\\end{aligned}\n",
    "where $x^{(i)}$ the i-th training example\n",
    "\n",
    "**Loss (error) function:**\n",
    "\n",
    "The loss function measures the discrepancy between the prediction ($\\hat{y}^{(i)}$) and the desired output ($y^{(i)}$).\n",
    "In other words, the loss function computes the error for a single training example\n",
    "\n",
    "$L(\\hat{y}, y) = \\frac{1}{2} (\\hat{y} - y)^2$ **(Non - convex: Multiple local minimas)**\n",
    "\n",
    "$L\\left(\\hat{y}^{(i)}, y^{(i)}\\right)=-\\left(y^{(i)} \\log \\left(\\hat{y}^{(i)}\\right)+\\left(1-y^{(i)}\\right) \\log \\left(1-\\hat{y}^{(i)}\\right)\\right.$\n",
    "* If $y^{(i)}=1: L\\left(\\hat{y}^{(i)}, y^{(i)}\\right)=-\\log \\left(\\hat{y}^{(i)}\\right)$ where $\\log \\left(\\hat{y}^{(i)}\\right)$ and $\\hat{y}^{(i)}$ should be close to 1\n",
    "* If $y^{(i)}=0: L\\left(\\hat{y}^{(i)}, y^{(i)}\\right)=-\\log \\left(1-\\hat{y}^{(i)}\\right)$ where $\\log \\left(1-\\hat{y}^{(i)}\\right)$ and $\\hat{y}^{(i)}$ should be close to 0\n",
    "\n",
    "**Cost function**\n",
    "\n",
    "The cost function is the average of the loss function of the entire ```m``` training set. We are going to find the parameters ```𝑤``` 𝑎𝑛𝑑 ```𝑏``` that minimize the overall cost function.\n",
    "\n",
    "\\begin{aligned} J(w, b)=\\frac{1}{m} \\sum_{i=1}^{m} L\\left(\\hat{y}^{(i)}, y^{(i)}\\right)=-\\frac{1}{m} \\sum_{i=1}^{m}\\left[\\left(y^{(i)} \\log \\left(\\hat{y}^{(i)}\\right)+\\left(1-y^{(i)}\\right) \\log \\left(1-\\hat{y}^{(i)}\\right)\\right]\\right.\\end{aligned}\n",
    "\n",
    "### Gradient Descendent \n",
    "\n",
    "Want to find 𝑤,𝑏 that minimize 𝐽(𝑤,𝑏)  \n",
    "\n",
    "\n",
    "<img align='left' src='images/global.PNG' width='400'/>\n",
    "\n",
    "$w : = w - \\alpha \\frac{\\partial J(w, b)}{\\partial w}$\n",
    "\n",
    "$w : = w - \\alpha \\frac{\\partial J(w, b)}{\\partial b}$\n",
    "\n",
    "\n",
    "$dw = \\frac{\\partial J(w, b)}{\\partial w}$\n",
    "\n",
    "$db = \\frac{\\partial J(w, b)}{\\partial b}$\n",
    "\n",
    "where $\\alpha$ is the learning rate and $:=$ is an update assignation.\n",
    "\n",
    "\n",
    "\n",
    "\n",
    "\n"
   ]
  },
  {
   "cell_type": "markdown",
   "metadata": {},
   "source": [
    "---"
   ]
  },
  {
   "cell_type": "code",
   "execution_count": 69,
   "metadata": {},
   "outputs": [
    {
     "name": "stdout",
     "output_type": "stream",
     "text": [
      "Vectorized version:93.60623359680176 ms\n",
      "For Loop:551.4545440673828 ms\n"
     ]
    }
   ],
   "source": [
    "import time\n",
    "import numpy\n",
    "a = np.random.rand(1000000)\n",
    "b = np.random.rand(1000000)\n",
    "tic = time.time() \n",
    "c=np.dot(a, b) \n",
    "toc  =  time.time()\n",
    "print(\"Vectorized version:\" + str(1000*(toc-tic)) +\" ms\")\n",
    "\n",
    "c=0 \n",
    "tic  =  time.time()\n",
    "for i in range(1000000):\n",
    "    c += a[i]*b[i]\n",
    "toc  =  time.time()\n",
    "print(\"For Loop:\" + str(1000*(toc-tic)) +\" ms\")"
   ]
  },
  {
   "cell_type": "code",
   "execution_count": 13,
   "metadata": {},
   "outputs": [],
   "source": [
    "import re"
   ]
  },
  {
   "cell_type": "code",
   "execution_count": 21,
   "metadata": {},
   "outputs": [
    {
     "data": {
      "text/plain": [
       "['ab,', 'ab', 'ab', 'a']"
      ]
     },
     "execution_count": 21,
     "metadata": {},
     "output_type": "execute_result"
    }
   ],
   "source": [
    "regex = re.compile(r'[b,a]+')\n",
    "regex.findall('ab,habhabha')"
   ]
  },
  {
   "cell_type": "code",
   "execution_count": 82,
   "metadata": {},
   "outputs": [
    {
     "data": {
      "text/plain": [
       "[<matplotlib.lines.Line2D at 0x1c4db8bfc08>]"
      ]
     },
     "execution_count": 82,
     "metadata": {},
     "output_type": "execute_result"
    },
    {
     "data": {
      "image/png": "[encoded data removed]",
      "text/plain": [
       "<Figure size 1440x288 with 3 Axes>"
      ]
     },
     "metadata": {
      "needs_background": "light"
     },
     "output_type": "display_data"
    }
   ],
   "source": [
    "#spine placement data centered\n",
    "def center_axis(ax,center=0):\n",
    "    ax.spines['left'].set_position('center')\n",
    "    ax.spines['bottom'].set_position(('data', center))\n",
    "    ax.spines['right'].set_color('none')\n",
    "    ax.spines['top'].set_color('none')\n",
    "def tanh(z):\n",
    "    return (np.exp(z)-np.exp(-z))/(np.exp(z)+np.exp(-z))\n",
    "x = np.linspace(-5.5, 5.5, 1000)\n",
    "fig = plt.figure(figsize=(20, 4))\n",
    "ax = fig.add_subplot(1, 3, 1)\n",
    "center_axis(ax,center=0.)\n",
    "ax.annotate('',xy=(0,0.85),xycoords='axes fraction',fontsize=20)\n",
    "ax.plot(x, 1/(1+np.exp(-x)))\n",
    "ax = fig.add_subplot(1, 3, 2)\n",
    "center_axis(ax)\n",
    "y = tanh(x)\n",
    "ax.annotate('tanh=$\\\\frac{e^z-e^{-z}}{e^z + e^{-z}}$',xy=(0,0.85),xycoords='axes fraction',fontsize=20)\n",
    "ax.plot(x, y)\n",
    "x = np.linspace(-10, 10, 1000)\n",
    "y = np.maximum(0, x)\n",
    "ax2 = fig.add_subplot(1, 3, 3)\n",
    "center_axis(ax2)\n",
    "ax2.annotate('RELU=$max(0,z)$',xy=(0,0.85),xycoords='axes fraction',fontsize=15)\n",
    "ax2.plot(x, y,zorder=10,lw=2)"
   ]
  },
  {
   "cell_type": "markdown",
   "metadata": {},
   "source": [
    "where g could be a nonlinear function that may not be the sigmoid function. So for example, the sigmoid function goes within zero and one, and activation function that almost always works better than the sigmoid function is the tangent function or the hyperbolic tangent function. So this is z, this is a, this is a equals tanh(z), and this goes between plus 1 and minus 1. The formula for the tanh function is e to the z minus e to the negative z over their sum. And is actually mathematically, a shifted version of the sigmoid function. So, as a sigmoid function just like that, but shifted so that it now crosses a zero zero point and v scale, so it goes 15 minus 1 and plus 1. And it turns out for hidden units, if you let the function g of z be equal to tanh(z), this almost always works better than the sigmoid function because the values between plus 1 and minus 1, the mean of the activations that come out of your head, and they are closer to having a 0 mean. And so just as sometimes when you train a learning algorithm, you might center the data and have your data have 0 mean using a tanh instead of a sigmoid function. It kind of has the effect of centering your data so that the mean of your data is closer to 0 rather than, maybe 0.5. And this\n",
    "\n",
    "**The tanh activation usually works better than sigmoid activation function for hidden units because the mean of its output is closer to zero, and so it centers the data better for the next layer.**\n",
    "\n",
    "* You are building a binary classifier for recognizing cucumbers (y=1) vs. watermelons (y=0). Which one of these activation functions would you recommend using for the output layer: Sigmoid"
   ]
  },
  {
   "cell_type": "markdown",
   "metadata": {},
   "source": [
    "<img align='left' src='\\images\\vectorizatmexample.png' width='600'/>"
   ]
  },
  {
   "cell_type": "markdown",
   "metadata": {},
   "source": [
    "---\n",
    "## Computational Graphs \n",
    "\n",
    "\n",
    "\n",
    "Computational graphs are a nice way to think about mathematical expressions. For example, consider the expression:\n",
    "$$e=(a+b)∗(b+1)$$ There are three operations: two additions and one multiplication. To help us talk about this, let’s introduce two intermediary variables, ```c``` and ```d``` so that every function’s output has a variable. We now have:\n",
    "\n",
    "$$c=a+b$$\n",
    "\n",
    "$$d=b+1$$\n",
    "\n",
    "$$e=c∗d$$\n",
    "\n",
    "To create a computational graph, we make each of these operations AND the input variables into nodes. When one node’s value is the input to another node, an arrow goes from one to another. We can evaluate the expression by setting the input variables to certain values and computing nodes up through the graph. For example, let’s set $a=2$ and $b=1$:\n",
    "\n",
    "<img align='left' src='images/computacionalgraf.PNG' width='550'/>\n",
    "\n",
    "To evaluate the partial derivatives in this graph, we need the sum rule and the product rule:\n",
    "\n",
    "$$\\begin{aligned}\n",
    "&\\frac{\\partial}{\\partial a}(a+b)=\\frac{\\partial a}{\\partial a}+\\frac{\\partial b}{\\partial a}=1\\\\\\\\\n",
    "&\\frac{\\partial}{\\partial u} u v=u \\frac{\\partial v}{\\partial u}+v \\frac{\\partial u}{\\partial u}=v\n",
    "\\end{aligned}$$\n",
    "\n",
    "If a directly affects c, then we want to know how it affects c. If a changes a little bit, how does c change? We call this the partial derivative of c with respect to a. **we want to understand how nodes that aren’t directly connected affect each other**\n",
    "\n",
    "The general rule is to sum over all possible paths from one node to the other, multiplying the derivatives on each edge of the path together.\n",
    "“sum over paths” rule is just a different way of thinking about the **multivariate chain rule**. For example:\n",
    "\n",
    "$$\\frac{\\partial e}{\\partial b}=\\frac{\\partial e}{\\partial c}\\frac{\\partial c}{\\partial b}+\\frac{\\partial e}{\\partial d}\\frac{\\partial d}{\\partial b}=1*2+1*3$$\n",
    "\n",
    "#### Factoring Paths\n",
    "\n",
    "The problem with just “summing over the paths” is that it’s very easy to get a combinatorial explosion in the number of possible paths.\n",
    "\n",
    "$$\\frac{\\partial Z}{\\partial X}=\\alpha \\delta+\\alpha \\epsilon+\\alpha \\zeta+\\beta \\delta+\\beta \\epsilon+\\beta \\zeta+\\gamma \\delta+\\gamma \\epsilon+\\gamma \\zeta$$\n",
    "\n",
    "The above only has nine paths, but it would be easy to have the number of paths to grow exponentially as the graph becomes more complicated.\n",
    "Instead of just naively summing over the paths, it would be much better to factor them:\n",
    "\n",
    "$$\\frac{\\partial Z}{\\partial X}=(\\alpha+\\beta+\\gamma)(\\delta+\\epsilon+\\zeta)$$\n",
    "\n",
    "This is where **“forward-mode differentiation” and “reverse-mode differentiation”** come in. They’re algorithms for efficiently computing the sum by factoring the paths. Instead of summing over all of the paths explicitly, they compute the same sum more efficiently by merging paths back together at every node. In fact, **both algorithms touch each edge exactly once**\n",
    "\n",
    "1. forward-mode differentiation: it starts at an input to the graph and moves towards the end. At every node, it sums all the paths feeding in. Each of those paths represents one way in which the input affects that node. By adding them up, we get the total way in which the node is affected by the input, it’s derivative. Its is similar to calculus class.\n",
    "Applies $\\frac{\\partial}{\\partial X}$to every node.**This gives us the derivative of every node with respect to input.** giving us the derivative of our output with respect to a single input\n",
    "2. Reverse-mode differentiation, on the other hand, starts at an output of the graph and moves towards the beginning. At each node, it merges all paths which originated at that node. Applies $\\frac{\\partial Z}{\\partial}$ to every node. Similar to dynamic programming. **This gives us the derivative of Z or output with respect to every node.**\n",
    "\n",
    "\n",
    "\n",
    "\n",
    "\n",
    "<img align='center' src='images/backpropag.png' width='500'/>\n",
    "\n",
    "\n",
    "\n",
    "\n",
    "\n",
    "\n",
    "In this class, **Z** is the cost function ```J``` and the coding convention ```dvar``` represent the derivative of a final output variable  such as ```J``` with respect to various intermediate quantities.\n",
    "\n",
    "<img align='center' src='images/backpropa.png' width='1120'/>\n",
    "\n",
    "---"
   ]
  },
  {
   "cell_type": "markdown",
   "metadata": {},
   "source": [
    "\n"
   ]
  },
  {
   "cell_type": "markdown",
   "metadata": {},
   "source": [
    "**Cost Function**\n",
    "\n",
    "$J(w^{[1]}, b^{[1]}, w^{[2]}, b^{[2]}) = \\frac{1}{m}\\sum_{i=1}^{m}(\\hat{y}, y)$\n",
    "\n",
    "**Forward Propagation**\n",
    "\n",
    "$Z^{[1]} = w^{[1]}X+b{[1]}$\n",
    "$A^{[1]} = g^{[1]}(Z^{[1]})$\n",
    "\n",
    "$Z^{[2]} = w^{[2]}A^{[1]}+b^{[2]}$\n",
    "$A^{[1]} = g^{[2]}(Z^{[2]})$\n",
    "\n",
    "\n",
    "\n",
    "**Backpropagation**\n",
    "\n",
    "$dZ^{[2]} = A^{[2]} - Y$\n",
    "\n",
    "$dW{[2]} = \\frac{1}{m}dZ^{[2]}A^{[1]T}$\n",
    "\n",
    "$db^{[2]} = \\frac{1}{m}np.sum(dZ^{[2]}, axis=1, keepdims=True)$\n",
    "\n",
    "$dZ^{[1]} = w^{[2]T}dZ^{[2]} * g^{[1]}(Z^{[1]})\\text{ $*$ is element wise multiplication}$ \n",
    "\n",
    "$dW{[1]} = \\frac{1}{m}dZ^{[1]}X^{T}$\n",
    "\n",
    "$db^{[1]} = \\frac{1}{m}np.sum(dZ^{[1]}, axis=1, keepdims=True)$"
   ]
  },
  {
   "cell_type": "markdown",
   "metadata": {},
   "source": [
    "<img align='left' src='images/red_estructura.PNG' width='750'/>"
   ]
  },
  {
   "cell_type": "markdown",
   "metadata": {},
   "source": [
    "<img align='left' src='images/ima1.PNG' width='300'/>\n",
    "\n",
    "\n"
   ]
  },
  {
   "cell_type": "markdown",
   "metadata": {},
   "source": [
    "---\n",
    "**I: INPUT** |\n",
    "**O: OUTPUT**\n",
    "\n",
    "<img align='left' src='images/ima2.PNG' width='750'/>"
   ]
  },
  {
   "cell_type": "markdown",
   "metadata": {},
   "source": [
    "### Visual Representation vs Matrix Form"
   ]
  },
  {
   "cell_type": "markdown",
   "metadata": {},
   "source": [
    "<img align='left' src='images/forma_matricial.PNG' width='1000'/>"
   ]
  },
  {
   "cell_type": "markdown",
   "metadata": {},
   "source": [
    "##### Justificaction of this vectorization\n",
    "\n",
    "How about for doing it in a vectorized way for the whole training set at the same time?\n",
    "\n",
    "<img align='left' src='images/vectorization.PNG' width='650'/>"
   ]
  },
  {
   "cell_type": "markdown",
   "metadata": {},
   "source": [
    " Remember when we count layers in a neural network, we don't count the input layer, we just count the hidden layers as was the output layer. "
   ]
  },
  {
   "cell_type": "markdown",
   "metadata": {},
   "source": [
    "### Forward propagation in a Deep Network"
   ]
  },
  {
   "cell_type": "code",
   "execution_count": 117,
   "metadata": {},
   "outputs": [
    {
     "name": "stdout",
     "output_type": "stream",
     "text": [
      "Area of Rectangle: 96000 cm^2\n",
      "Cost of rectangular field: Rs. 192000000 \n"
     ]
    }
   ],
   "source": [
    "class Rectangle:\n",
    "    def __init__(self, length, breadth, unit_cost=0):\n",
    "        self.length = length\n",
    "        self.breadth = breadth\n",
    "        self.unit_cost = unit_cost\n",
    "        self.area = self.get_area()\n",
    "        \n",
    "    def get_perimeter(self):\n",
    "        return 2 * (self.length + self.breadth)\n",
    "    def perimeter(self):\n",
    "        pp=55\n",
    "        return 2 * (self.length + self.breadth)\n",
    "\n",
    "    def get_area(self,amplificacion=5):\n",
    "        return amplificacion*self.length * self.breadth\n",
    "    def _get_area(self):\n",
    "        return self.length * self.breadth\n",
    "\n",
    "\n",
    "    def calculate_cost(self):\n",
    "#         area = self.get_area()\n",
    "        return self.area  * self.unit_cost\n",
    "# breadth = 120 cm, length = 160 cm, 1 cm^2 = Rs 2000\n",
    "r = Rectangle(160, 120, 2000)\n",
    "print(\"Area of Rectangle: %s cm^2\" % (r.area))\n",
    "print(\"Cost of rectangular field: Rs. %s \" %(r.calculate_cost()))"
   ]
  },
  {
   "cell_type": "code",
   "execution_count": 118,
   "metadata": {},
   "outputs": [],
   "source": [
    "r.alo=5"
   ]
  },
  {
   "cell_type": "code",
   "execution_count": 119,
   "metadata": {},
   "outputs": [
    {
     "data": {
      "text/plain": [
       "19200"
      ]
     },
     "execution_count": 119,
     "metadata": {},
     "output_type": "execute_result"
    }
   ],
   "source": [
    "r.get_area(amplificacion=1)"
   ]
  },
  {
   "cell_type": "code",
   "execution_count": 130,
   "metadata": {},
   "outputs": [],
   "source": [
    "lista = [1,2,3,2,1,2,21,1,1,1,1,2,2]"
   ]
  },
  {
   "cell_type": "code",
   "execution_count": 132,
   "metadata": {},
   "outputs": [
    {
     "data": {
      "text/plain": [
       "1"
      ]
     },
     "execution_count": 132,
     "metadata": {},
     "output_type": "execute_result"
    }
   ],
   "source": [
    "max(lista, key = lista.count)"
   ]
  },
  {
   "cell_type": "code",
   "execution_count": 135,
   "metadata": {},
   "outputs": [
    {
     "data": {
      "text/plain": [
       "5"
      ]
     },
     "execution_count": 135,
     "metadata": {},
     "output_type": "execute_result"
    }
   ],
   "source": [
    "lista.count(2)"
   ]
  },
  {
   "cell_type": "markdown",
   "metadata": {},
   "source": [
    "Parameters vs Hyperparamters: ecause it is the hyper parameters somehow determine the final value of the parameters W and B that you end up with in f\n",
    "\n",
    "Parameters\n",
    "- W[L], b[L]\n",
    "\n",
    "Hyperparameters: \n",
    "- Learning rate \\alpha\n",
    "- \\# iterations\n",
    "- Hidden layers\n",
    "- Hidden units\n",
    "- Choice of activation\n",
    "\n",
    "Later\n",
    "-  momentum term \n",
    "- the mini batch size \n",
    "- various forms of regularization parameters"
   ]
  },
  {
   "cell_type": "code",
   "execution_count": null,
   "metadata": {},
   "outputs": [],
   "source": []
  }
 ],
 "metadata": {
  "kernelspec": {
   "display_name": "Python 3",
   "language": "python",
   "name": "python3"
  },
  "language_info": {
   "codemirror_mode": {
    "name": "ipython",
    "version": 3
   },
   "file_extension": ".py",
   "mimetype": "text/x-python",
   "name": "python",
   "nbconvert_exporter": "python",
   "pygments_lexer": "ipython3",
   "version": "3.7.7"
  }
 },
 "nbformat": 4,
 "nbformat_minor": 4
}
